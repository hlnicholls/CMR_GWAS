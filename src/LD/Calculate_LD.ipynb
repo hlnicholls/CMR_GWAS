{
 "cells": [
  {
   "cell_type": "code",
   "execution_count": 1,
   "metadata": {},
   "outputs": [],
   "source": [
    "import subprocess\n",
    "import os"
   ]
  },
  {
   "cell_type": "code",
   "execution_count": 2,
   "metadata": {},
   "outputs": [
    {
     "name": "stdout",
     "output_type": "stream",
     "text": [
      "\n",
      "Note: Use \u001b[1mdx select --level VIEW\u001b[0m or \u001b[1mdx select --public\u001b[0m to\n",
      "select from projects for which you only have VIEW permissions.\n",
      "\n",
      "Available projects (CONTRIBUTE or higher):\n",
      "Setting current project to: \u001b[1mExome full cohort - Jan 05, 2023\u001b[0m\n"
     ]
    }
   ],
   "source": [
    "!dx login --token  #[token]"
   ]
  },
  {
   "cell_type": "code",
   "execution_count": 3,
   "metadata": {},
   "outputs": [
    {
     "data": {
      "text/plain": [
       "0"
      ]
     },
     "execution_count": 3,
     "metadata": {},
     "output_type": "execute_result"
    }
   ],
   "source": [
    "outpath_dnanexus = '/Regenie_outfolder/TOPmed_LD'\n",
    "\n",
    "os.system(f'dx mkdir {outpath_dnanexus}')"
   ]
  },
  {
   "cell_type": "code",
   "execution_count": null,
   "metadata": {},
   "outputs": [],
   "source": [
    "%%bash\n",
    "\n",
    "project=\"project-ID\"\n",
    "impute_file_dir='/TOPmed_downsample_5k'\n",
    "data_field=\"ukb21007\"\n",
    "inpath_dnanexus='/Regenie_infolder/TOPmed_LD'\n",
    "outpath_dnanexus='/Regenie_outfolder/TOPmed_LD'\n",
    "\n",
    "# List of lead snps\n",
    "csv_file=\"/Output/All_pheno_all_loci_topmed_list_38_unique.csv\"\n",
    "\n",
    "# Read CSV into an array, skipping the header\n",
    "mapfile -t lines < <(tail -n +2 \"$csv_file\")\n",
    "\n",
    "# Iterate over the lines using a for loop\n",
    "for line in \"${lines[@]}\"; do\n",
    "    IFS=, read -r Phenotype Locus_n Locus_name ID CHROM GENPOS ALLELE1 ALLELE0 A1FREQ MAF INFO BETA SE p <<< \"$line\"\n",
    "\n",
    "    # Convert the colon-separated ID to underscore-separated\n",
    "    file_lead_snp_id=$(echo $ID | tr ':' '_')\n",
    "    lead_snp_id=$(echo $ID | tr '_' ':')\n",
    "    \n",
    "    # Extract the chromosome number from the SNP ID (format: chr_pos_allele1_allele2)\n",
    "    chr=$(echo $CHROM)\n",
    "    echo \"Lead SNP ID: $lead_snp_id, Chromosome: $chr\"\n",
    "\n",
    "    # Construct the PLINK command\n",
    "    run_plink_ld=\"plink --bfile ${data_field}_c${chr}_b0_v1_downsample_IDs \\\n",
    "        --r2 \\\n",
    "        --ld-snp ${lead_snp_id} \\\n",
    "        --keep-allele-order \\\n",
    "        --ld-window-kb 4000 \\\n",
    "        --ld-window-r2 0.1 \\\n",
    "        --ld-window 99999 \\\n",
    "        --out locus_${file_lead_snp_id}\"\n",
    "\n",
    "    # Run the PLINK command using dx toolkit\n",
    "    dx run swiss-army-knife -iin=\"${impute_file_dir}/${data_field}_c${chr}_b0_v1_downsample_IDs.bed\" \\\n",
    "     -iin=\"${impute_file_dir}/${data_field}_c${chr}_b0_v1_downsample_IDs.bim\" \\\n",
    "     -iin=\"${impute_file_dir}/${data_field}_c${chr}_b0_v1_downsample_IDs.fam\" \\\n",
    "     -icmd=\"${run_plink_ld}\" --tag=\"TOPmed_ld_${file_lead_snp_id}\" --instance-type \"mem1_hdd1_v2_x16\" \\\n",
    "     -imount_inputs=true \\\n",
    "     --destination=\"${project}:${outpath_dnanexus}\" --verbose --yes\n",
    "done\n"
   ]
  }
 ],
 "metadata": {
  "kernelspec": {
   "display_name": "Python 3",
   "language": "python",
   "name": "python3"
  },
  "language_info": {
   "codemirror_mode": {
    "name": "ipython",
    "version": 3
   },
   "file_extension": ".py",
   "mimetype": "text/x-python",
   "name": "python",
   "nbconvert_exporter": "python",
   "pygments_lexer": "ipython3",
   "version": "3.9.18"
  }
 },
 "nbformat": 4,
 "nbformat_minor": 2
}
