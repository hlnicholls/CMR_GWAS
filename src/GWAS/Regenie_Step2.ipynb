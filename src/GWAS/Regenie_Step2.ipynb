{
 "cells": [
  {
   "cell_type": "code",
   "execution_count": 1,
   "id": "15b3a928-736d-4362-b93e-b54ddb491eb3",
   "metadata": {},
   "outputs": [],
   "source": [
    "import subprocess\n",
    "import os"
   ]
  },
  {
   "cell_type": "code",
   "execution_count": 2,
   "id": "b6dd6f3f-24f4-441b-be51-d818fd22af59",
   "metadata": {},
   "outputs": [
    {
     "name": "stdout",
     "output_type": "stream",
     "text": [
      "\n",
      "Note: Use \u001b[1mdx select --level VIEW\u001b[0m or \u001b[1mdx select --public\u001b[0m to\n",
      "select from projects for which you only have VIEW permissions.\n",
      "\n",
      "Available projects (CONTRIBUTE or higher):\n",
      "Setting current project to: \u001b[1mExome full cohort - Jan 05, 2023\u001b[0m\n"
     ]
    }
   ],
   "source": [
    "!dx login --token #[token]"
   ]
  },
  {
   "cell_type": "code",
   "execution_count": 3,
   "id": "40c0f4eb-1a15-422f-9d7f-7fdfa1cc2f24",
   "metadata": {},
   "outputs": [
    {
     "name": "stdout",
     "output_type": "stream",
     "text": [
      "Exome full cohort - Jan 05, 2023:/\n",
      "\u001b[0m"
     ]
    }
   ],
   "source": [
    "!dx pwd"
   ]
  },
  {
   "cell_type": "code",
   "execution_count": 4,
   "id": "9e9f0477-3e0b-4b28-bb4e-f2007dae342e",
   "metadata": {},
   "outputs": [
    {
     "data": {
      "text/plain": [
       "0"
      ]
     },
     "execution_count": 4,
     "metadata": {},
     "output_type": "execute_result"
    }
   ],
   "source": [
    "inpath_dnanexus = '/Regenie_infolder/'\n",
    "outpath_dnanexus = '/Regenie_outfolder/'\n",
    "\n",
    "os.system(f'dx mkdir {inpath_dnanexus}')\n",
    "os.system(f'dx mkdir {outpath_dnanexus}')"
   ]
  },
  {
   "cell_type": "code",
   "execution_count": null,
   "id": "0f73fcd0",
   "metadata": {},
   "outputs": [],
   "source": [
    "#Upload Step 1 files\n",
    "outpath = '/Regenie_step1/Output'\n",
    "file_list = os.listdir(outpath)\n",
    "file_list = [f for f in file_list if f.endswith('loco')]\n",
    "file_list = [f for f in file_list if 'GrCh38' in f]\n",
    "for f in file_list:\n",
    "    os.system(f'dx upload {outpath}/{f} --destination {inpath_dnanexus}')"
   ]
  },
  {
   "cell_type": "code",
   "execution_count": null,
   "id": "52858754",
   "metadata": {},
   "outputs": [],
   "source": [
    "#Upload pred.list with correct dirname for DNAnexus\n",
    "outpath = '/Regenie_step1/Output'\n",
    "file_list = os.listdir(outpath)\n",
    "file_list = [f for f in file_list if f.endswith('pred.list')]\n",
    "file_list = [f for f in file_list if 'GrCh38' in f]\n",
    "print(file_list)\n",
    "os.system(f\"cp {outpath}/{file_list[0]} {outpath}/{file_list[0].replace('GrCh38_pred.list', 'GrCh38_corrected_path_pred.list')}\") \n",
    "\n",
    "os.system(f\"sed -i 's@{outpath}/@''@g' {outpath}/{file_list[0].replace('GrCh38_pred.list', 'GrCh38_corrected_path_pred.list')}\")\n",
    "#Upload this pred.list with corrected path \n",
    "os.system(f\"dx upload {outpath}/{file_list[0].replace('GrCh38_pred.list', 'GrCh38_corrected_path_pred.list')} --destination {inpath_dnanexus}\")"
   ]
  },
  {
   "cell_type": "code",
   "execution_count": 9,
   "id": "4ad43e55-90e0-4c9b-9127-8d9d35205142",
   "metadata": {},
   "outputs": [
    {
     "name": "stdout",
     "output_type": "stream",
     "text": [
      "CMR_phenotypes_regenie_15112023.txt\n",
      "UKB_step1_commonvariant_GrCh38_1.loco\n",
      "UKB_step1_commonvariant_GrCh38_10.loco\n",
      "UKB_step1_commonvariant_GrCh38_11.loco\n",
      "UKB_step1_commonvariant_GrCh38_12.loco\n",
      "UKB_step1_commonvariant_GrCh38_2.loco\n",
      "UKB_step1_commonvariant_GrCh38_3.loco\n",
      "UKB_step1_commonvariant_GrCh38_4.loco\n",
      "UKB_step1_commonvariant_GrCh38_5.loco\n",
      "UKB_step1_commonvariant_GrCh38_6.loco\n",
      "UKB_step1_commonvariant_GrCh38_7.loco\n",
      "UKB_step1_commonvariant_GrCh38_8.loco\n",
      "UKB_step1_commonvariant_GrCh38_9.loco\n",
      "UKB_step1_commonvariant_GrCh38_corrected_path_pred.list\n",
      "\u001b[0m"
     ]
    }
   ],
   "source": [
    "!dx ls /Regenie_infolder/"
   ]
  },
  {
   "cell_type": "code",
   "execution_count": null,
   "id": "5fa62ece",
   "metadata": {},
   "outputs": [],
   "source": [
    "%%bash\n",
    "\n",
    "#Performing Regenie Step 2 with swiss-army-knife (repeat for RV with updated variables)\n",
    "project=\"project-ID\"\n",
    "impute_file_dir=\"/Bulk/Imputation/Imputation from genotype (TOPmed)\"\n",
    "# Data field to TOPMed release\n",
    "data_field=\"ukb21007\"\n",
    "inpath_dnanexus='/Regenie_infolder/'\n",
    "outpath_dnanexus='/Regenie_outfolder/'\n",
    "\n",
    "for i in {1..22};\n",
    "do\n",
    "    run_regenie_LV_GWAS=\"regenie --step 2 --bgen ${data_field}_c${i}_b0_v1.bgen \\\n",
    "      --ref-first \\\n",
    "      --sample ${data_field}_c${i}_b0_v1.sample \\\n",
    "      --phenoFile CMR_phenotypes_regenie_15112023.txt \\\n",
    "      --phenoCol LVEDV,LVESV,LVSV,LVEF,LVM,LVMVR,LVGFI,LVMCF,LVEDV_BSA,LVESV_BSA,LVSV_BSA,LVM_BSA  \\\n",
    "      --qt \\\n",
    "      --pred UKB_step1_commonvariant_GrCh38_corrected_path_pred.list  \\\n",
    "      --minMAC 20 \\\n",
    "      --bsize 1000 \\\n",
    "      --verbose \\\n",
    "      --debug \\\n",
    "      --out LV_commonvariant_chr${i}_TOPmed\"\n",
    "\n",
    "    dx run swiss-army-knife -iin=\"${impute_file_dir}/${data_field}_c${i}_b0_v1.bgen\" \\\n",
    "     -iin=\"${impute_file_dir}/${data_field}_c${i}_b0_v1.bgen.bgi\" \\\n",
    "     -iin=\"${impute_file_dir}/${data_field}_c${i}_b0_v1.sample\" \\\n",
    "     -iin=\"${inpath_dnanexus}CMR_phenotypes_regenie_15112023.txt\" \\\n",
    "     -iin=\"${inpath_dnanexus}UKB_step1_commonvariant_GrCh38_corrected_path_pred.list\" \\\n",
    "     -iin=\"${inpath_dnanexus}UKB_step1_commonvariant_GrCh38_1.loco\" \\\n",
    "     -iin=\"${inpath_dnanexus}UKB_step1_commonvariant_GrCh38_2.loco\" \\\n",
    "     -iin=\"${inpath_dnanexus}UKB_step1_commonvariant_GrCh38_3.loco\" \\\n",
    "     -iin=\"${inpath_dnanexus}UKB_step1_commonvariant_GrCh38_4.loco\" \\\n",
    "     -iin=\"${inpath_dnanexus}UKB_step1_commonvariant_GrCh38_5.loco\" \\\n",
    "     -iin=\"${inpath_dnanexus}UKB_step1_commonvariant_GrCh38_6.loco\" \\\n",
    "     -iin=\"${inpath_dnanexus}UKB_step1_commonvariant_GrCh38_7.loco\" \\\n",
    "     -iin=\"${inpath_dnanexus}UKB_step1_commonvariant_GrCh38_8.loco\" \\\n",
    "     -iin=\"${inpath_dnanexus}UKB_step1_commonvariant_GrCh38_9.loco\" \\\n",
    "     -iin=\"${inpath_dnanexus}UKB_step1_commonvariant_GrCh38_10.loco\" \\\n",
    "     -iin=\"${inpath_dnanexus}UKB_step1_commonvariant_GrCh38_11.loco\" \\\n",
    "     -iin=\"${inpath_dnanexus}UKB_step1_commonvariant_GrCh38_12.loco\" \\\n",
    "     -icmd=\"${run_regenie_LV_GWAS}\" --tag=\"LV_GWAS_Regenie_Step2\" --instance-type \"mem1_hdd1_v2_x16\" \\\n",
    "     -imount_inputs=true \\\n",
    "     --destination=\"${project}:${outpath_dnanexus}\" --verbose --yes\n",
    "done\n"
   ]
  }
 ],
 "metadata": {
  "kernelspec": {
   "display_name": "dnanexus",
   "language": "python",
   "name": "python3"
  },
  "language_info": {
   "codemirror_mode": {
    "name": "ipython",
    "version": 3
   },
   "file_extension": ".py",
   "mimetype": "text/x-python",
   "name": "python",
   "nbconvert_exporter": "python",
   "pygments_lexer": "ipython3",
   "version": "3.9.18"
  }
 },
 "nbformat": 4,
 "nbformat_minor": 5
}
